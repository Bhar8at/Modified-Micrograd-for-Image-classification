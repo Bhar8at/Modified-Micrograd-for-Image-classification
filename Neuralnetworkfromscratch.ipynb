{
  "nbformat": 4,
  "nbformat_minor": 0,
  "metadata": {
    "colab": {
      "provenance": [],
      "authorship_tag": "ABX9TyO76XlCbFHeOQSWdl3qkzVr",
      "include_colab_link": true
    },
    "kernelspec": {
      "name": "python3",
      "display_name": "Python 3"
    },
    "language_info": {
      "name": "python"
    }
  },
  "cells": [
    {
      "cell_type": "markdown",
      "metadata": {
        "id": "view-in-github",
        "colab_type": "text"
      },
      "source": [
        "<a href=\"https://colab.research.google.com/github/Bhar8at/Modified-Micrograd-for-Image-classification/blob/main/Neuralnetworkfromscratch.ipynb\" target=\"_parent\"><img src=\"https://colab.research.google.com/assets/colab-badge.svg\" alt=\"Open In Colab\"/></a>"
      ]
    },
    {
      "cell_type": "code",
      "source": [
        "import math, numpy as np, random"
      ],
      "metadata": {
        "id": "7iSQF3h-ObLv"
      },
      "execution_count": 1,
      "outputs": []
    },
    {
      "cell_type": "code",
      "execution_count": 2,
      "metadata": {
        "id": "LmV7A6wJl10s",
        "colab": {
          "base_uri": "https://localhost:8080/"
        },
        "outputId": "75acf23d-cc45-483b-a957-c1354d43305c"
      },
      "outputs": [
        {
          "output_type": "stream",
          "name": "stdout",
          "text": [
            "Downloading data from https://storage.googleapis.com/tensorflow/tf-keras-datasets/mnist.npz\n",
            "\u001b[1m11490434/11490434\u001b[0m \u001b[32m━━━━━━━━━━━━━━━━━━━━\u001b[0m\u001b[37m\u001b[0m \u001b[1m0s\u001b[0m 0us/step\n"
          ]
        }
      ],
      "source": [
        "import tensorflow as tf\n",
        "\n",
        "mnist = tf.keras.datasets.mnist\n",
        "(x_train, y_train), (x_test, y_test) = mnist.load_data()\n",
        "\n",
        "x_train = tf.keras.utils.normalize(x_train,1)\n",
        "x_test = tf.keras.utils.normalize(x_test,1)\n",
        "x_train_flattened = tf.reshape(x_train, (60000, 784))\n",
        "x_test_flattened = tf.reshape(x_test, (10000, 784))"
      ]
    },
    {
      "cell_type": "code",
      "source": [
        "tf.shape(x_train_flattened)"
      ],
      "metadata": {
        "colab": {
          "base_uri": "https://localhost:8080/"
        },
        "id": "8KjM8EPal7FA",
        "outputId": "693f8478-1d4a-4e95-d542-0449313e0344"
      },
      "execution_count": 3,
      "outputs": [
        {
          "output_type": "execute_result",
          "data": {
            "text/plain": [
              "<tf.Tensor: shape=(2,), dtype=int32, numpy=array([60000,   784], dtype=int32)>"
            ]
          },
          "metadata": {},
          "execution_count": 3
        }
      ]
    },
    {
      "cell_type": "code",
      "source": [
        "# One-hot encode the labels\n",
        "y_train = tf.one_hot(y_train, depth=10)  # Converts to one-hot format\n",
        "y_test = tf.one_hot(y_test, depth=10)"
      ],
      "metadata": {
        "id": "aMHh40Dhn66J"
      },
      "execution_count": 4,
      "outputs": []
    },
    {
      "cell_type": "code",
      "source": [
        "tf.shape(y_train)"
      ],
      "metadata": {
        "colab": {
          "base_uri": "https://localhost:8080/"
        },
        "id": "pN5US2_Bojh-",
        "outputId": "66e4670c-aea2-47d6-f377-fcb8a25dc488"
      },
      "execution_count": 5,
      "outputs": [
        {
          "output_type": "execute_result",
          "data": {
            "text/plain": [
              "<tf.Tensor: shape=(2,), dtype=int32, numpy=array([60000,    10], dtype=int32)>"
            ]
          },
          "metadata": {},
          "execution_count": 5
        }
      ]
    },
    {
      "cell_type": "code",
      "source": [
        "import math\n",
        "class Value:\n",
        "\n",
        "    def __init__(self, data, _children = (), _op = ()):\n",
        "        self.data = data\n",
        "        self._op = _op\n",
        "        self._prev = set(_children)\n",
        "        self.grad = 0.0\n",
        "        self._backward = lambda : None\n",
        "\n",
        "    def __repr__(self):\n",
        "        return f\"Value(data={self.data})\"\n",
        "\n",
        "    def __pow__(self, other):\n",
        "        assert isinstance(other, (int,float))\n",
        "        out = Value(self.data**other, (self,), f'**{other}')\n",
        "\n",
        "        def _backward():\n",
        "            self.grad += other * (self.data ** (other - 1)) * out.grad\n",
        "\n",
        "        out._backward = _backward\n",
        "        return out\n",
        "\n",
        "    def __add__(self, other):\n",
        "        other = other if isinstance(other, Value) else Value(other)\n",
        "        out = Value(self.data + other.data, (self,other), '+')\n",
        "\n",
        "        def _backward():\n",
        "           self.grad += 1.0 * out.grad\n",
        "           other.grad += 1.0 * out.grad\n",
        "\n",
        "\n",
        "        out._backward = _backward\n",
        "        return out\n",
        "\n",
        "    def __neg__(self):\n",
        "        return self * -1\n",
        "\n",
        "    def __sub__(self, other):\n",
        "        return self + (-other)\n",
        "\n",
        "    def __mul__(self, other):\n",
        "        other = other if isinstance(other, Value) else Value(other)\n",
        "        out = Value(self.data*other.data, (self,other), '*')\n",
        "\n",
        "        def _backward():\n",
        "           self.grad += other.data * out.grad\n",
        "           other.grad += self.data * out.grad\n",
        "\n",
        "        out._backward = _backward\n",
        "        return out\n",
        "\n",
        "    def __rmul__(self, other):\n",
        "        return self*other\n",
        "\n",
        "    def __radd__(self, other):\n",
        "        return self+other\n",
        "\n",
        "    def __truediv__(self, other):\n",
        "        return self * other**-1\n",
        "\n",
        "    def tanh(self):\n",
        "         x = self.data\n",
        "         t = (math.exp(2*x)-1)/(math.exp(2*x)+1)\n",
        "         out = Value(t, (self,), 'tanh')\n",
        "\n",
        "         def _backward():\n",
        "           self.grad += (1 - t**2) * out.grad\n",
        "\n",
        "         out._backward = _backward\n",
        "         return out\n",
        "\n",
        "    def exp(self):\n",
        "        x = self.data\n",
        "        out = Value(math.exp(x), (self,), 'exp')\n",
        "\n",
        "        def _backward():\n",
        "            self.grad += out.data *  out.grad\n",
        "\n",
        "        out._backward = _backward\n",
        "\n",
        "        return out\n",
        "\n",
        "    def log(self):\n",
        "        x = self.data\n",
        "        out = Value(math.log(x), (self,), 'log')\n",
        "\n",
        "        def _backward():\n",
        "            self.grad += (1/self.data) * out.grad\n",
        "\n",
        "        out._backward = _backward\n",
        "        return out\n",
        "\n",
        "\n",
        "    def backward(self):\n",
        "\n",
        "        topo = []\n",
        "        visited = []\n",
        "        def build_topo(v):\n",
        "            if v not in visited:\n",
        "                visited.append(v)\n",
        "                for child in v._prev:\n",
        "                    build_topo(child)\n",
        "                topo.append(v)\n",
        "\n",
        "        build_topo(self)\n",
        "\n",
        "        self.grad = 1.0\n",
        "        for node in reversed(topo):\n",
        "            node._backward()\n"
      ],
      "metadata": {
        "id": "Vmwkktoyo10-"
      },
      "execution_count": 6,
      "outputs": []
    },
    {
      "cell_type": "code",
      "source": [
        "Value(1) * 1"
      ],
      "metadata": {
        "colab": {
          "base_uri": "https://localhost:8080/"
        },
        "id": "b5nyFW3qK6dN",
        "outputId": "243ee12d-9c77-412e-f4df-bb5d58804cd4"
      },
      "execution_count": 10,
      "outputs": [
        {
          "output_type": "execute_result",
          "data": {
            "text/plain": [
              "Value(data=1)"
            ]
          },
          "metadata": {},
          "execution_count": 10
        }
      ]
    },
    {
      "cell_type": "code",
      "source": [
        "x = Value(5)\n",
        "x = x+7\n",
        "x"
      ],
      "metadata": {
        "colab": {
          "base_uri": "https://localhost:8080/"
        },
        "id": "LgSZFJPAOkcJ",
        "outputId": "91099630-5cff-4744-fd3b-4a33029d214e"
      },
      "execution_count": 22,
      "outputs": [
        {
          "output_type": "execute_result",
          "data": {
            "text/plain": [
              "Value(data=12)"
            ]
          },
          "metadata": {},
          "execution_count": 22
        }
      ]
    },
    {
      "cell_type": "code",
      "source": [
        "Value(x)"
      ],
      "metadata": {
        "colab": {
          "base_uri": "https://localhost:8080/"
        },
        "id": "S2Mhn24KOpqG",
        "outputId": "e76239a8-1a08-411f-f1ec-f8e4f6b8c209"
      },
      "execution_count": 23,
      "outputs": [
        {
          "output_type": "execute_result",
          "data": {
            "text/plain": [
              "Value(data=Value(data=12))"
            ]
          },
          "metadata": {},
          "execution_count": 23
        }
      ]
    },
    {
      "cell_type": "code",
      "source": [
        "x = Value(x)\n",
        "x._prev"
      ],
      "metadata": {
        "colab": {
          "base_uri": "https://localhost:8080/"
        },
        "id": "mv_FKb34OsHn",
        "outputId": "a208dbc0-789a-4bba-c663-2e2ae8cae8f0"
      },
      "execution_count": 24,
      "outputs": [
        {
          "output_type": "execute_result",
          "data": {
            "text/plain": [
              "set()"
            ]
          },
          "metadata": {},
          "execution_count": 24
        }
      ]
    },
    {
      "cell_type": "code",
      "source": [
        "\n",
        "class Neuron:\n",
        "    def __init__(self, nin):\n",
        "        self.w = [Value(random.uniform(-1, 1)) for _ in range(nin)]\n",
        "        self.b = Value(random.uniform(-1, 1))\n",
        "\n",
        "    def __call__(self, x):\n",
        "        act = sum((wi * xi for wi, xi in zip(self.w, x)), self.b)\n",
        "        return act\n",
        "\n",
        "    def parameters(self):\n",
        "        return self.w + [self.b]\n",
        "\n",
        "class Layer():\n",
        "\n",
        "    def __init__(self, nin, nout):\n",
        "        self.neurons = [Neuron(nin) for i in range(nout)]\n",
        "\n",
        "    def __call__(self, x):\n",
        "        outs = [n(x) for n in self.neurons]\n",
        "        return outs[0] if len(outs) == 1 else outs\n",
        "\n",
        "    def parameters(self):\n",
        "        return [p for neuron in self.neurons for p in neuron.parameters()]\n",
        "\n",
        "class MLP():\n",
        "\n",
        "    def __init__(self, nin, nouts):\n",
        "        s = [nin, ] + nouts\n",
        "        self.layers = [Layer(s[i], s[i+1]) for i in range(len(nouts))]\n",
        "\n",
        "    def __call__(self, x):\n",
        "        x = [Value(xi) if not isinstance(xi, Value) else xi for xi in x]\n",
        "        for layer in self.layers:\n",
        "            x = layer(x)\n",
        "        return x\n",
        "\n",
        "    def parameters(self):\n",
        "        return [p for Layer in self.layers for p in Layer.parameters()]"
      ],
      "metadata": {
        "id": "VBtc4obE0qly"
      },
      "execution_count": 27,
      "outputs": []
    },
    {
      "cell_type": "code",
      "source": [
        "def softmax(logits):\n",
        "    # Convert logits to Values if they aren't already\n",
        "    logits = [Value(x) if not isinstance(x, Value) else x for x in logits]\n",
        "    # Subtract max for numerical stability\n",
        "    max_logit = max(x.data for x in logits)\n",
        "    exp_logits = [l.data - max_logit for l in logits]\n",
        "    exp_logits = [Value(math.exp(x)) for x in exp_logits]\n",
        "    sum_exp = sum(e.data for e in exp_logits)\n",
        "    return [e.data/sum_exp for e in exp_logits]"
      ],
      "metadata": {
        "id": "ig3BiBU0p67K"
      },
      "execution_count": 25,
      "outputs": []
    },
    {
      "cell_type": "code",
      "source": [
        "# class MLP:\n",
        "#     def __init__(self, nin, nouts):\n",
        "#         sizes = [nin] + nouts\n",
        "#         self.layers = [Layer(sizes[i], sizes[i+1]) for i in range(len(nouts))]\n",
        "\n",
        "#     def __call__(self, x):\n",
        "#         print(\"MLP is progress!\")\n",
        "#         for layer in self.layers:\n",
        "#             print(\"Layer is progress!\")\n",
        "#             x = layer(x)  # Allow x to be a matrix (batch processing)\n",
        "#         return x\n",
        "#     def parameters(self):\n",
        "#         return [p for layer in self.layers for p in layer.parameters()]\n",
        "\n",
        "# class Layer:\n",
        "#     def __init__(self, nin, nout):\n",
        "#         self.w = np.random.uniform(-1, 1, (nout, nin))\n",
        "#         self.b = np.random.uniform(-1, 1, nout)\n",
        "\n",
        "#     def __call__(self, x):\n",
        "#       print(\"Softmax is progress!\")\n",
        "#       return softmax(np.dot(Value(x), self.w.T) + self.b)\n",
        "\n",
        "#     def parameters(self):\n",
        "#         return [self.w, self.b]\n"
      ],
      "metadata": {
        "id": "JiPASn4YQ5xH"
      },
      "execution_count": 17,
      "outputs": []
    },
    {
      "cell_type": "code",
      "source": [
        "nn = MLP(784, [10,10])"
      ],
      "metadata": {
        "id": "e62jv4YF0wsE"
      },
      "execution_count": 28,
      "outputs": []
    },
    {
      "cell_type": "code",
      "source": [
        "x = x_train_flattened.numpy()\n",
        "x = x[:100]\n",
        "y = y_train[:100]"
      ],
      "metadata": {
        "id": "AXOpSKbSqoNu"
      },
      "execution_count": 20,
      "outputs": []
    },
    {
      "cell_type": "code",
      "source": [
        "nn(x[0])"
      ],
      "metadata": {
        "colab": {
          "base_uri": "https://localhost:8080/",
          "height": 141
        },
        "id": "6eVY_rKIrKbx",
        "outputId": "20f889c9-e37d-4a01-86b9-aa7b1ffc7373"
      },
      "execution_count": 29,
      "outputs": [
        {
          "output_type": "error",
          "ename": "TypeError",
          "evalue": "'Value' object is not subscriptable",
          "traceback": [
            "\u001b[0;31m---------------------------------------------------------------------------\u001b[0m",
            "\u001b[0;31mTypeError\u001b[0m                                 Traceback (most recent call last)",
            "\u001b[0;32m<ipython-input-29-40bdeef3d315>\u001b[0m in \u001b[0;36m<cell line: 1>\u001b[0;34m()\u001b[0m\n\u001b[0;32m----> 1\u001b[0;31m \u001b[0mnn\u001b[0m\u001b[0;34m(\u001b[0m\u001b[0mx\u001b[0m\u001b[0;34m[\u001b[0m\u001b[0;36m0\u001b[0m\u001b[0;34m]\u001b[0m\u001b[0;34m)\u001b[0m\u001b[0;34m\u001b[0m\u001b[0;34m\u001b[0m\u001b[0m\n\u001b[0m",
            "\u001b[0;31mTypeError\u001b[0m: 'Value' object is not subscriptable"
          ]
        }
      ]
    },
    {
      "cell_type": "code",
      "source": [
        "def cross_entropy_loss(y_true, y_pred):\n",
        "    epsilon = 1e-7\n",
        "    y_pred = [max(min(p, 1-epsilon), epsilon) for p in y_pred]\n",
        "    return -sum(yt * math.log(yp) for yt, yp in zip(y_true, y_pred))"
      ],
      "metadata": {
        "id": "uUUOgxE3xUop"
      },
      "execution_count": 26,
      "outputs": []
    },
    {
      "cell_type": "code",
      "source": [
        "for i in range(200):\n",
        "\n",
        "    # forward pass\n",
        "    yout = [nn(x[i]) for i in range(len(x))]\n",
        "    yout = [softmax(yo) for yo in yout]\n",
        "    loss = sum([cross_entropy_loss(y_true, y_pred) for y_true, y_pred in zip(y, yout)])\n",
        "\n",
        "    # backward pass\n",
        "    for p in nn.parameters():\n",
        "        p.grad = 0\n",
        "    loss.backward()\n",
        "\n",
        "    # update\n",
        "    for p in nn.parameters():\n",
        "        p.data += -0.05*p.grad\n",
        "\n",
        "\n",
        "    print(\"Step \",i,loss.data,)"
      ],
      "metadata": {
        "id": "tQ9_ONjwvBA5"
      },
      "execution_count": null,
      "outputs": []
    },
    {
      "cell_type": "code",
      "source": [],
      "metadata": {
        "id": "g5Mo_aNMxhP2"
      },
      "execution_count": null,
      "outputs": []
    }
  ]
}