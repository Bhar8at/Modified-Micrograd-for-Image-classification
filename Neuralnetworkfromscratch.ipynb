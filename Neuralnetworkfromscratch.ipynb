{
  "nbformat": 4,
  "nbformat_minor": 0,
  "metadata": {
    "colab": {
      "provenance": [],
      "authorship_tag": "ABX9TyPBinJ1n45X/y4P77oCH0sj",
      "include_colab_link": true
    },
    "kernelspec": {
      "name": "python3",
      "display_name": "Python 3"
    },
    "language_info": {
      "name": "python"
    }
  },
  "cells": [
    {
      "cell_type": "markdown",
      "metadata": {
        "id": "view-in-github",
        "colab_type": "text"
      },
      "source": [
        "<a href=\"https://colab.research.google.com/github/Bhar8at/Modified-Micrograd-for-Image-classification/blob/main/Neuralnetworkfromscratch.ipynb\" target=\"_parent\"><img src=\"https://colab.research.google.com/assets/colab-badge.svg\" alt=\"Open In Colab\"/></a>"
      ]
    },
    {
      "cell_type": "code",
      "execution_count": 1,
      "metadata": {
        "id": "LmV7A6wJl10s"
      },
      "outputs": [],
      "source": [
        "import tensorflow as tf\n",
        "\n",
        "mnist = tf.keras.datasets.mnist\n",
        "(x_train, y_train), (x_test, y_test) = mnist.load_data()\n",
        "\n",
        "x_train = tf.keras.utils.normalize(x_train,1)\n",
        "x_test = tf.keras.utils.normalize(x_test,1)\n",
        "x_train_flattened = tf.reshape(x_train, (60000, 784))\n",
        "x_test_flattened = tf.reshape(x_test, (10000, 784))"
      ]
    },
    {
      "cell_type": "code",
      "source": [
        "tf.shape(x_train_flattened)"
      ],
      "metadata": {
        "colab": {
          "base_uri": "https://localhost:8080/"
        },
        "id": "8KjM8EPal7FA",
        "outputId": "ea1249f3-d288-4095-f7ac-a692c45bde8e"
      },
      "execution_count": 2,
      "outputs": [
        {
          "output_type": "execute_result",
          "data": {
            "text/plain": [
              "<tf.Tensor: shape=(2,), dtype=int32, numpy=array([60000,   784], dtype=int32)>"
            ]
          },
          "metadata": {},
          "execution_count": 2
        }
      ]
    },
    {
      "cell_type": "code",
      "source": [
        "# One-hot encode the labels\n",
        "y_train = tf.one_hot(y_train, depth=10)  # Converts to one-hot format\n",
        "y_test = tf.one_hot(y_test, depth=10)"
      ],
      "metadata": {
        "id": "aMHh40Dhn66J"
      },
      "execution_count": 3,
      "outputs": []
    },
    {
      "cell_type": "code",
      "source": [
        "tf.shape(y_train)"
      ],
      "metadata": {
        "colab": {
          "base_uri": "https://localhost:8080/"
        },
        "id": "pN5US2_Bojh-",
        "outputId": "2cfb4d3a-a360-420d-8c41-9589dffe3b3f"
      },
      "execution_count": 4,
      "outputs": [
        {
          "output_type": "execute_result",
          "data": {
            "text/plain": [
              "<tf.Tensor: shape=(2,), dtype=int32, numpy=array([60000,    10], dtype=int32)>"
            ]
          },
          "metadata": {},
          "execution_count": 4
        }
      ]
    },
    {
      "cell_type": "code",
      "source": [
        "import math\n",
        "class Value:\n",
        "\n",
        "    def __init__(self, data, _children = (), _op = ()):\n",
        "        self.data = data\n",
        "        self._op = _op\n",
        "        self._prev = set(_children)\n",
        "        self.grad = 0.0\n",
        "        self._backward = lambda : None\n",
        "\n",
        "    def __repr__(self):\n",
        "        return f\"Value(data={self.data})\"\n",
        "\n",
        "    def __pow__(self, other):\n",
        "        assert isinstance(other, (int,float))\n",
        "        out = Value(self.data**other, (self,), f'**{other}')\n",
        "\n",
        "        def _backward():\n",
        "            self.grad += other * (self.data ** (other - 1)) * out.grad\n",
        "\n",
        "        out._backward = _backward\n",
        "        return out\n",
        "\n",
        "    def __add__(self, other):\n",
        "        other = other if isinstance(other, Value) else Value(other)\n",
        "        out = Value(self.data + other.data, (self,other), '+')\n",
        "\n",
        "        def _backward():\n",
        "           self.grad += 1.0 * out.grad\n",
        "           other.grad += 1.0 * out.grad\n",
        "\n",
        "\n",
        "        out._backward = _backward\n",
        "        return out\n",
        "\n",
        "    def __neg__(self):\n",
        "        return self * -1\n",
        "\n",
        "    def __sub__(self, other):\n",
        "        return self + (-other)\n",
        "\n",
        "    def __mul__(self, other):\n",
        "        other = other if isinstance(other, Value) else Value(other)\n",
        "        out = Value(self.data*other.data, (self,other), '*')\n",
        "\n",
        "        def _backward():\n",
        "           self.grad += other.data * out.grad\n",
        "           other.grad += self.data * out.grad\n",
        "\n",
        "        out._backward = _backward\n",
        "        return out\n",
        "\n",
        "    def __rmul__(self, other):\n",
        "        return self*other\n",
        "\n",
        "    def __radd__(self, other):\n",
        "        return self+other\n",
        "\n",
        "    def __truediv__(self, other):\n",
        "        return self * other**-1\n",
        "\n",
        "    def tanh(self):\n",
        "         x = self.data\n",
        "         t = (math.exp(2*x)-1)/(math.exp(2*x)+1)\n",
        "         out = Value(t, (self,), 'tanh')\n",
        "\n",
        "         def _backward():\n",
        "           self.grad += (1 - t**2) * out.grad\n",
        "\n",
        "         out._backward = _backward\n",
        "         return out\n",
        "\n",
        "    def exp(self):\n",
        "        x = self.data\n",
        "        out = Value(math.exp(x), (self,), 'exp')\n",
        "\n",
        "        def _backward():\n",
        "            self.grad += out.data *  out.grad\n",
        "\n",
        "        out._backward = _backward\n",
        "\n",
        "        return out\n",
        "\n",
        "    def log(self):\n",
        "        x = self.data\n",
        "        out = Value(math.log(x), (self,), 'log')\n",
        "\n",
        "        def _backward():\n",
        "            self.grad += (1/self.data) * out.grad\n",
        "\n",
        "        out._backward = _backward\n",
        "        return out\n",
        "\n",
        "\n",
        "    def backward(self):\n",
        "\n",
        "        topo = []\n",
        "        visited = []\n",
        "        def build_topo(v):\n",
        "            if v not in visited:\n",
        "                visited.append(v)\n",
        "                for child in v._prev:\n",
        "                    build_topo(child)\n",
        "                topo.append(v)\n",
        "\n",
        "        build_topo(self)\n",
        "\n",
        "        self.grad = 1.0\n",
        "        for node in reversed(topo):\n",
        "            node._backward()\n"
      ],
      "metadata": {
        "id": "Vmwkktoyo10-"
      },
      "execution_count": 5,
      "outputs": []
    },
    {
      "cell_type": "code",
      "source": [
        "import random\n",
        "class Neuron():\n",
        "\n",
        "    def __init__(self, nin):\n",
        "        self.w = [Value(random.uniform(-1,1)) for _ in range(nin)]\n",
        "        self.b = Value(random.uniform(-1,1))\n",
        "\n",
        "    def __call__(self,x):\n",
        "        o = sum((wi*xi for wi,xi in zip(self.w, x)), self.b)\n",
        "        return o\n",
        "\n",
        "    def parameters(self):\n",
        "        return self.w + [self.b,]\n",
        "\n",
        "class Layer():\n",
        "\n",
        "    def __init__(self, nin, nout):\n",
        "        self.neurons = [Neuron(nin) for i in range(nout)]\n",
        "\n",
        "    def __call__(self, x):\n",
        "        outs = [n(x) for n in self.neurons]\n",
        "        return outs[0] if len(outs) == 1 else outs\n",
        "\n",
        "    def parameters(self):\n",
        "        return [p for neuron in self.neurons for p in neuron.parameters()]\n",
        "\n",
        "class MLP():\n",
        "\n",
        "    def __init__(self, nin, nouts):\n",
        "        s = [nin, ] + nouts\n",
        "        self.layers = [Layer(s[i], s[i+1]) for i in range(len(nouts))]\n",
        "\n",
        "    def __call__(self, x):\n",
        "        for layer in self.layers:\n",
        "            x = layer(x)\n",
        "        return x\n",
        "\n",
        "    def parameters(self):\n",
        "        return [p for Layer in self.layers for p in Layer.parameters()]"
      ],
      "metadata": {
        "id": "VBtc4obE0qly"
      },
      "execution_count": 6,
      "outputs": []
    },
    {
      "cell_type": "code",
      "source": [
        "nn = MLP(784, [10,10])"
      ],
      "metadata": {
        "id": "e62jv4YF0wsE"
      },
      "execution_count": 7,
      "outputs": []
    },
    {
      "cell_type": "code",
      "source": [
        "x = x_train_flattened.numpy().tolist()\n",
        "x = x[:100]\n",
        "y = y_train[:100]"
      ],
      "metadata": {
        "id": "AXOpSKbSqoNu"
      },
      "execution_count": 8,
      "outputs": []
    },
    {
      "cell_type": "code",
      "source": [
        "nn(x[0])"
      ],
      "metadata": {
        "colab": {
          "base_uri": "https://localhost:8080/"
        },
        "id": "6eVY_rKIrKbx",
        "outputId": "f7787918-68b8-45fe-c531-240844222ecd"
      },
      "execution_count": 10,
      "outputs": [
        {
          "output_type": "execute_result",
          "data": {
            "text/plain": [
              "[Value(data=-4.9400908314888845),\n",
              " Value(data=-1.72490685802164),\n",
              " Value(data=-8.984048078948355),\n",
              " Value(data=-1.5336747604409247),\n",
              " Value(data=4.6853366107815795),\n",
              " Value(data=4.414849766720843),\n",
              " Value(data=3.6061335696640966),\n",
              " Value(data=6.161375553957978),\n",
              " Value(data=-0.4631304492591508),\n",
              " Value(data=-7.308924722768948)]"
            ]
          },
          "metadata": {},
          "execution_count": 10
        }
      ]
    },
    {
      "cell_type": "code",
      "source": [
        "def cross_entropy_loss(y_true, y_pred):\n",
        "    # Add a small constant to prevent log(0)\n",
        "    epsilon = 1e-12\n",
        "    return -sum(y_t * (y_p + epsilon).log() for y_t, y_p in zip(y_true, y_pred))"
      ],
      "metadata": {
        "id": "uUUOgxE3xUop"
      },
      "execution_count": 11,
      "outputs": []
    },
    {
      "cell_type": "code",
      "source": [
        "def softmax(values):\n",
        "    exp_values = [v.exp() for v in values]\n",
        "    total = sum(exp_values)\n",
        "    return [v / total for v in exp_values]"
      ],
      "metadata": {
        "id": "ig3BiBU0p67K"
      },
      "execution_count": 12,
      "outputs": []
    },
    {
      "cell_type": "code",
      "source": [
        "for i in range(200):\n",
        "\n",
        "    # forward pass\n",
        "    yout = [nn(x[i]) for i in range(len(x))]\n",
        "    yout = [softmax(yo) for yo in yout]\n",
        "    loss = sum([cross_entropy_loss(y_true, y_pred) for y_true, y_pred in zip(y, yout)])\n",
        "\n",
        "    # backward pass\n",
        "    for p in nn.parameters():\n",
        "        p.grad = 0\n",
        "    loss.backward()\n",
        "\n",
        "    # update\n",
        "    for p in nn.parameters():\n",
        "        p.data += -0.05*p.grad\n",
        "\n",
        "\n",
        "    print(\"Step \",i,loss.data,)"
      ],
      "metadata": {
        "id": "tQ9_ONjwvBA5"
      },
      "execution_count": null,
      "outputs": []
    },
    {
      "cell_type": "code",
      "source": [],
      "metadata": {
        "id": "g5Mo_aNMxhP2"
      },
      "execution_count": null,
      "outputs": []
    }
  ]
}